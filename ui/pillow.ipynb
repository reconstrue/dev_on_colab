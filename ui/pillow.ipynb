{
  "nbformat": 4,
  "nbformat_minor": 0,
  "metadata": {
    "colab": {
      "name": "pillow.ipynb",
      "provenance": []
    },
    "kernelspec": {
      "name": "python3",
      "display_name": "Python 3"
    }
  },
  "cells": [
    {
      "cell_type": "markdown",
      "metadata": {
        "id": "W0QM3ntlT1HG",
        "colab_type": "text"
      },
      "source": [
        "# Pillow a.k.a. PIL\n",
        "\n",
        "PIL is great tech. Easy to use. It has tons of convenient frequently requested tools built-in, but it's built for large images. \n",
        "\n",
        "- https://stackoverflow.com/a/14792693/4669056\n",
        "\n",
        "\n",
        "PIL (Pillow) is perfectly good technology and it may even be leveraged a bit, but the core data structure is NumPy. Converting between the two is a one-liner of code:\n",
        "```python\n",
        "np_img = np.array(pil_img)\n",
        "```\n"
      ]
    },
    {
      "cell_type": "code",
      "metadata": {
        "id": "o_lrG4D5UG82",
        "colab_type": "code",
        "colab": {}
      },
      "source": [
        "import PIL\n",
        "import PIL.Image\n",
        "\n",
        "#in_img = PIL.Image.open(in_file)\n",
        "\n",
        "#Reconstrue.display_pil_image(in_img, 0.33)\n",
        "\n",
        "# Too big, no control: \n",
        "# display(in_img)"
      ],
      "execution_count": 0,
      "outputs": []
    },
    {
      "cell_type": "markdown",
      "metadata": {
        "id": "pKb893iJUCPK",
        "colab_type": "text"
      },
      "source": [
        "### PIL versus skimage"
      ]
    },
    {
      "cell_type": "code",
      "metadata": {
        "id": "_KzhIYmXTyt2",
        "colab_type": "code",
        "colab": {}
      },
      "source": [
        "print('PIL image:')\n",
        "pil_image =  PIL.Image.open(in_file)\n",
        "pil_pixels_count = pil_image.size[0] * pil_image.size[1]\n",
        "print(f'.size   = {pil_image.size}')\n",
        "print(f'pixels  =  {pil_pixels_count}')\n",
        "print(f'3xPixls = {3*pil_pixels_count}\\n')\n",
        "# There is no pil_image.ravel() b/c it's a PIL.Image not a NumPy \n",
        "\n",
        "skimage_image = skimage.io.imread(in_file)\n",
        "print('skimage image:')\n",
        "print(f'.shape  = {skimage_image.shape}')\n",
        "print(f'.size   = {skimage_image.size}')\n",
        "print(f'raveled = {len(skimage_image.ravel())}')\n",
        "print(f'pixels  = ????')\n",
        "#print(image.ravel()[0:1000])"
      ],
      "execution_count": 0,
      "outputs": []
    }
  ]
}