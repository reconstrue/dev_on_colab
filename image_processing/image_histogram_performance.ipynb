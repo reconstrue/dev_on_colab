{
  "nbformat": 4,
  "nbformat_minor": 0,
  "metadata": {
    "colab": {
      "name": "image_histogram_performance.ipynb",
      "provenance": [],
      "collapsed_sections": []
    },
    "kernelspec": {
      "name": "python3",
      "display_name": "Python 3"
    }
  },
  "cells": [
    {
      "cell_type": "markdown",
      "metadata": {
        "id": "-H7kBniSVSTs",
        "colab_type": "text"
      },
      "source": [
        "# Image histogram performance\n",
        "\n",
        "This notebook focuses on one small topic: performance of image histogram generation in Python. Tools that can do that will be referred to herein as \"binners\" because they sort pixels into bins. This has been considered to be worth the time because of a project involving sets of 2D images which are on the order of 20 to 60 gigabytes (GB) which each image being on the order of 50 MB. That all adds up to some compute time. It is worth knowing how to do that quickly."
      ]
    },
    {
      "cell_type": "markdown",
      "metadata": {
        "id": "TfQfGzDVV3Ct",
        "colab_type": "text"
      },
      "source": [
        "## Interger values\n",
        "\n",
        "On the web, images can be either color or grayscale but either way they usually contain pixel values of datatype interger. For grayscale images there is usually only one channel, the intensity; for color there could be three or four channels, the fourth being alpha a.k.a. opacity.\n",
        "\n",
        "There are other image formats which express images as floats from range 0 to 1 (normalized). **TODO:** is this true?"
      ]
    }
  ]
}