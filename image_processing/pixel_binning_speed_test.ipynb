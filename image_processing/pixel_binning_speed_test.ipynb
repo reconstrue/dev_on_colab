{
  "nbformat": 4,
  "nbformat_minor": 0,
  "metadata": {
    "colab": {
      "name": "pixel_binning_speed_test.ipynb",
      "provenance": [],
      "collapsed_sections": [],
      "toc_visible": true
    },
    "kernelspec": {
      "name": "python3",
      "display_name": "Python 3"
    }
  },
  "cells": [
    {
      "cell_type": "markdown",
      "metadata": {
        "id": "mqrMh9h-GYz5",
        "colab_type": "text"
      },
      "source": [
        "# Pixel binning speed test\n",
        "\n",
        "<img src=\"https://www.allaboutcircuits.com/uploads/articles/Figure3_ImHist.jpg\" width=\"70%\"/>"
      ]
    },
    {
      "cell_type": "markdown",
      "metadata": {
        "id": "-H7kBniSVSTs",
        "colab_type": "text"
      },
      "source": [
        "This notebook focuses on one specific topic: performance of image histogram generation in Python. Tools that can do that will be referred to herein as \"binners\" because they sort pixels into bins [Ed: not sure if anyone else uses this term]. \n",
        "\n",
        "This perf test is worth the time because of a project involving sets of 2D images which are on the order of 20 to 60 gigabytes (GB) with each image being on the order of 50 MB. Say you wanted an intensity histogram for that whole stack, and then do the same for over 100 stacks. That all adds up to some compute time. It is worth knowing how to do that quickly."
      ]
    },
    {
      "cell_type": "markdown",
      "metadata": {
        "id": "803kku3iYEtM",
        "colab_type": "text"
      },
      "source": [
        "There may well be performance benefits to using skimage.exposure.cumulative_distribution:\n",
        ">Unlike numpy.histogram, this function returns the centers of bins and does not rebin integer arrays. For integer arrays, each integer value has its own bin, **which improves speed and intensity-resolution.**\n",
        "\n",
        "Nonetheless, `%time` here is showing `exposure` to be the slow one."
      ]
    },
    {
      "cell_type": "markdown",
      "metadata": {
        "id": "0QrCZwxnhW_G",
        "colab_type": "text"
      },
      "source": [
        "Supposedly OpenCV is 40x faster than numpy? Let's test that to see if that happens.\n",
        "\n",
        "https://docs.opencv.org/master/d1/db7/tutorial_py_histogram_begins.html\n",
        "\n",
        ">OpenCV function is faster than (around 40X) than np.histogram(). So stick with OpenCV function."
      ]
    },
    {
      "cell_type": "markdown",
      "metadata": {
        "id": "GFwvPeDiap-j",
        "colab_type": "text"
      },
      "source": [
        "# File load speed\n",
        "\n",
        "Should this be part of it?"
      ]
    },
    {
      "cell_type": "markdown",
      "metadata": {
        "id": "I_sJ-cT8L44W",
        "colab_type": "text"
      },
      "source": [
        "## Binning discrepancies\n",
        "\n",
        "Conceptually, there are integer values ranging from 0 -- 255 (8-bit uint) that need to be binned. Naively, one might expect identical results; ignore run-time, this is just how many pixels end up in each bin.\n",
        "\n",
        "Compare all binnings:\n",
        "- skimage.exposure.histogram (claims to be fast)\n",
        "- One is np.histogram \n",
        "- cv2\n",
        "- matplotlib\n",
        "- plotly looks different\n",
        "\n",
        "One test would be to total the bars, which should have the same count as the count of pixels in the image.\n",
        "\n",
        "**TODO:** a 4 trace step function graph plotting all of the above arrays of 256 uint8's on one chart for comparison. All normalized to 0--255, for the 0--1 floaters. After have one plot here with multiple steppers, then finalize on a single 8-bit dual guage above .\n"
      ]
    },
    {
      "cell_type": "markdown",
      "metadata": {
        "id": "8-ndPNJuhnha",
        "colab_type": "text"
      },
      "source": [
        "**TODO:** code to search for empty bins, then zoom in UI to confirm\n",
        "\n",
        "**TODO:** How to get MPL to hist but not plot? I.e. I just want the return function of hist, not the chart. just don't plot() or show()?\n",
        "\n"
      ]
    },
    {
      "cell_type": "markdown",
      "metadata": {
        "id": "TfQfGzDVV3Ct",
        "colab_type": "text"
      },
      "source": [
        "### Interger values\n",
        "\n",
        "On the web, images can be either color or grayscale but either way they usually contain pixel values of datatype interger. For grayscale images there is usually only one channel, the intensity; for color there could be three or four channels, the fourth being alpha a.k.a. opacity.\n",
        "\n",
        "There are other image formats which express images as floats from range 0 to 1 (normalized). **TODO:** is this true?\n",
        "\n",
        "Skimage docs say:\n",
        "> ~ ints are faster to process"
      ]
    },
    {
      "cell_type": "markdown",
      "metadata": {
        "id": "wU4PeTaRDbui",
        "colab_type": "text"
      },
      "source": [
        "### Floating values\n",
        "\n"
      ]
    },
    {
      "cell_type": "markdown",
      "metadata": {
        "id": "A1NeozieNuSX",
        "colab_type": "text"
      },
      "source": [
        "# OpenCV"
      ]
    },
    {
      "cell_type": "markdown",
      "metadata": {
        "id": "J2DVi9x_xsMe",
        "colab_type": "text"
      },
      "source": [
        "OpenCV and its Python interface `cv2` come pre-installed on Colab. OpenCV has a function, [`calcHist()`](https://docs.opencv.org/master/d1/db7/tutorial_py_histogram_begins.html), for calculating intensity histograms. So, let's get a second opinion distribution from OpenCV. \n",
        "\n",
        "**TODO:** does this benefit in terms of speed from staying int (not float), if that is what it does?"
      ]
    },
    {
      "cell_type": "code",
      "metadata": {
        "id": "cjfAyssUOiQN",
        "colab_type": "code",
        "colab": {}
      },
      "source": [
        "# Load and convert the image to grayscale, via OpenCV this time\n",
        "cv2_img = cv2.imread(in_file_name)\n",
        "cv2_grayed = cv2.cvtColor(cv2_img, cv2.COLOR_BGR2GRAY)"
      ],
      "execution_count": 0,
      "outputs": []
    },
    {
      "cell_type": "code",
      "metadata": {
        "id": "2SfUsKEJbO2j",
        "colab_type": "code",
        "colab": {}
      },
      "source": [
        ""
      ],
      "execution_count": 0,
      "outputs": []
    },
    {
      "cell_type": "markdown",
      "metadata": {
        "id": "RwaUVW5VA4nJ",
        "colab_type": "text"
      },
      "source": [
        "First thing to note, OpenCV and skimage represent both colors and intensities differently:"
      ]
    },
    {
      "cell_type": "code",
      "metadata": {
        "id": "SaO3DoIZBC82",
        "colab_type": "code",
        "outputId": "e477c79e-a228-4cc6-918f-c5952f1efda1",
        "cellView": "form",
        "colab": {
          "base_uri": "https://localhost:8080/",
          "height": 69
        }
      },
      "source": [
        "#@markdown \n",
        "print('Reverse color order, different dtype after grayscaled:')\n",
        "print(f'skimage:  {in_image[0,0]},  grayed is {grayed_image[0,0]:.2f},  a { type(grayed_image[0,0]) }')\n",
        "print(f'OpenCV:   {cv2_img[0,0]},  grayed is {cv2_grayed[0,0]},   a {type(cv2_grayed[0,0])}')"
      ],
      "execution_count": 0,
      "outputs": [
        {
          "output_type": "stream",
          "text": [
            "Reverse color order, different dtype after grayscaled:\n",
            "skimage:  [158 142 119],  grayed is 0.56,  a <class 'numpy.float64'>\n",
            "OpenCV:   [119 142 158],  grayed is 144,   a <class 'numpy.uint8'>\n"
          ],
          "name": "stdout"
        }
      ]
    },
    {
      "cell_type": "markdown",
      "metadata": {
        "id": "-pJdYF_zUnZu",
        "colab_type": "text"
      },
      "source": [
        "**Calculate distributions**"
      ]
    },
    {
      "cell_type": "code",
      "metadata": {
        "id": "Iep4k3AVfEqW",
        "colab_type": "code",
        "outputId": "8193f1bd-1078-4236-9c8e-f7e1e4f6eeb0",
        "colab": {
          "base_uri": "https://localhost:8080/",
          "height": 52
        }
      },
      "source": [
        "intensities_dist_by_cv2 = cv2.calcHist([cv2_grayed], [0], None, [256], [0, 256])\n",
        "\n",
        "# TODO: try accumlate param:\n",
        "#   Python: cv2.calcHist(images, channels, mask, histSize, ranges[, hist[, accumulate]]) → hist\n",
        "intensities_cdf_by_cv2 = intensities_dist_by_cv2.cumsum()\n",
        "\n",
        "print(intensities_dist_by_cv2.shape)\n",
        "print(intensities_dist_by_cv2[101])"
      ],
      "execution_count": 0,
      "outputs": [
        {
          "output_type": "stream",
          "text": [
            "(256, 1)\n",
            "[249.]\n"
          ],
          "name": "stdout"
        }
      ]
    },
    {
      "cell_type": "code",
      "metadata": {
        "id": "GeJtYcrqv2BH",
        "colab_type": "code",
        "outputId": "0d0430d9-d418-4f3f-e3c2-fa47a0be6114",
        "cellView": "form",
        "colab": {
          "base_uri": "https://localhost:8080/",
          "height": 547
        }
      },
      "source": [
        "#@markdown **Grayscaled Intensities**\n",
        "\n",
        "#@markdown Binned by OpenCV, plotted by `matplotlib`\n",
        "\n",
        "#@markdown [Stale y axis]\n",
        "#%%time\n",
        "\n",
        "fig, ax1 = plt.subplots(figsize=(28, 14)) #, constrained_layout=True)\n",
        "plt.subplots_adjust(wspace=0.01, hspace=0.01)\n",
        "\n",
        "# specify we want a second glyph to share the same x-axis\n",
        "ax2 = ax1.twinx() # This is the code to get two subplots sharing the same X axis\n",
        "\n",
        "# Turn off border except bottom\n",
        "ax1.spines['top'].set_visible(False)\n",
        "ax1.spines['right'].set_visible(False)\n",
        "ax1.spines['bottom'].set_visible(True)\n",
        "ax1.spines['bottom'].set_linewidth(2)\n",
        "ax1.spines['left'].set_visible(False)\n",
        "#ax1.spines['left'].set_color(hist_color)\n",
        "\n",
        "ax2.spines['top'].set_visible(False)\n",
        "ax2.spines['right'].set_visible(False)\n",
        "ax2.spines['bottom'].set_visible(False)\n",
        "ax2.spines['left'].set_visible(False)\n",
        "#ax2.spines['left'].set_color(hist_color)\n",
        "\n",
        "# Histogram as bars\n",
        "_ = ax1.bar(eight_bit_range, intensities_dist_by_cv2.ravel(), width=1.0, color=hist_color)#, ec='r')#, 'b')\n",
        "# line plot works: _ = ax1.plot(intensities, color=hist_color)\n",
        "#ax1.set_title('Pixels by Intensity', fontsize=20, fontdict={'fontweight': 'bold'})\n",
        "#ax1.xaxis.set_major_locator(plt.MultipleLocator(128))\n",
        "ax1.set_xticks([0, 128, 256])\n",
        "ax1.tick_params(axis='x', bottom=True, width=2, color='k', labelsize=16)\n",
        "ax1.set_ylabel('Pixels per Intensity', color=hist_color, fontsize=18)\n",
        "ax1.yaxis.label.set_color('#606060') #hist_color)\n",
        "ax1.tick_params(axis='y', color=hist_color, width=3, labelcolor=hist_color) #color='#0b559f')\n",
        "ax1.yaxis.set_major_locator(plt.MaxNLocator(4))\n",
        "\n",
        "# Cummulative histogram as line\n",
        "_ = ax2.step(eight_bit_range, intensities_cdf_by_cv2, color=cdf_color, where='mid')\n",
        "ax2.set_ylim(0,np.max(intensities_cdf_by_cv2) * 1.03)\n",
        "ax2.tick_params(axis='y', right=False, color=cdf_color)\n",
        "ax2.set_yticklabels([])\n",
        "_ = ax2.set_ylabel('Total luminance %', fontsize=18, color=cdf_color)"
      ],
      "execution_count": 0,
      "outputs": [
        {
          "output_type": "display_data",
          "data": {
            "image/png": "[encoded data removed]",
            "text/plain": [
              "<Figure size 2016x1008 with 2 Axes>"
            ]
          },
          "metadata": {
            "tags": []
          }
        }
      ]
    },
    {
      "cell_type": "markdown",
      "metadata": {
        "id": "5ZsRNfJRZ9aV",
        "colab_type": "text"
      },
      "source": [
        "Flat versus ravel()?"
      ]
    }
  ]
}