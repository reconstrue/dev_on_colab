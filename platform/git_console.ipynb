{
  "nbformat": 4,
  "nbformat_minor": 0,
  "metadata": {
    "colab": {
      "name": "git_console.ipynb",
      "provenance": [],
      "collapsed_sections": []
    },
    "kernelspec": {
      "name": "python3",
      "display_name": "Python 3"
    }
  },
  "cells": [
    {
      "cell_type": "markdown",
      "metadata": {
        "id": "Se_i5avfQ5z-",
        "colab_type": "text"
      },
      "source": [
        "# Git console\n",
        "\n",
        "This is for version controlling notebooks on Colab. \n",
        "\n",
        "The idea is that notebooks are files in one's Google Drive storage. So, \n",
        "- Save notebook in Colab\n",
        "- In another Colab, mount gDrive\n",
        "- Git commit /content/My Drive/Colab/whatever\n",
        "- Git push\n",
        "\n",
        "This way gives more control than the built in \"File->Save a copy in GitHub\". This is how to git commit but be able to do things like:\n",
        "- clean outputs\n",
        "- Black\n",
        "- test\n",
        "- etc.\n",
        "\n",
        "TODO: make some snippets"
      ]
    },
    {
      "cell_type": "code",
      "metadata": {
        "id": "3VKw5kZNQ1bO",
        "colab_type": "code",
        "colab": {
          "base_uri": "https://localhost:8080/",
          "height": 68
        },
        "outputId": "b29ea2d6-d67f-4ebe-be83-206aed6f712a"
      },
      "source": [
        "# Mount drive\n",
        "from google.colab import drive\n",
        "drive.mount('/content/drive')\n",
        "!ls -lh \"/content/drive/\""
      ],
      "execution_count": 4,
      "outputs": [
        {
          "output_type": "stream",
          "text": [
            "Drive already mounted at /content/drive; to attempt to forcibly remount, call drive.mount(\"/content/drive\", force_remount=True).\n",
            "total 4.0K\n",
            "drwx------ 6 root root 4.0K Dec 10 12:12 'My Drive'\n"
          ],
          "name": "stdout"
        }
      ]
    },
    {
      "cell_type": "code",
      "metadata": {
        "id": "lUXwkuivuheu",
        "colab_type": "code",
        "colab": {
          "base_uri": "https://localhost:8080/",
          "height": 476
        },
        "outputId": "b32bf64d-e521-49a6-b2ce-dce3fec665ce"
      },
      "source": [
        "!ls -lh \"/content/drive/My Drive\""
      ],
      "execution_count": 3,
      "outputs": [
        {
          "output_type": "stream",
          "text": [
            "total 2.3M\n",
            "drwx------ 2 root root 4.0K Jul 18  2018  Circanna\n",
            "-rw------- 1 root root  151 Jul 23  2018 \"Data Pond Archive: Crunched Monthly Kraken's Sales By Product Type Summary.gsheet\"\n",
            "-rw------- 1 root root  151 Jul 21  2018 'Data Pond Demo: How to use Kraken Lookup, SalesByProduct.gsheet'\n",
            "drwx------ 2 root root 4.0K Jun  1  2016 'Earshot Development'\n",
            "-rw------- 1 root root 1.5M Feb  3  2016 'Getting started.pdf'\n",
            "drwx------ 2 root root 4.0K Jul 16  2018  KegGraph\n",
            "drwx------ 2 root root 4.0K Jul 16  2018  Misc\n",
            "-rw------- 1 root root  151 Dec  3 23:23 'Mutual Confidentiality Agreement - Tigue.gdoc'\n",
            "-rw------- 1 root root  151 Oct 19 14:23 'Sagedoor CBD Study #1.gsheet'\n",
            "-rw------- 1 root root  151 Aug 13  2018 'Tigue and Sage Door Accounting.gsheet'\n",
            "-rw------- 2 root root  151 Dec  9 23:54 'Varsity Tutors: Tigue’s notes.gdoc'\n",
            "-rw------- 1 root root  51K May 24  2018 'vendorSales-03-01-2018-03-31-2018 (1).csv'\n",
            "-rw------- 1 root root  51K May 24  2018  vendorSales-03-01-2018-03-31-2018.csv\n",
            "-rw------- 1 root root  90K May 24  2018 'vendorSales-04-01-2018-04-30-2018 (1) (1).csv'\n",
            "-rw------- 1 root root  90K May 24  2018 'vendorSales-04-01-2018-04-30-2018 (1).csv'\n",
            "-rw------- 1 root root 1.2K May 24  2018  vendorSales-04-01-2018-04-30-2018.crunched.csv\n",
            "-rw------- 1 root root 114K May 22  2018  vendorSales-04-21-2018-05-22-2018.csv\n",
            "-rw------- 1 root root  94K Jun  5  2018 'vendorSales-05-01-2018-05-31-2018 (1).csv'\n",
            "-rw------- 1 root root  94K Jun  5  2018  vendorSales-05-01-2018-05-31-2018.csv\n",
            "-rw------- 1 root root  747 May 24  2018  vendorSales-2018-02-crunched.csv\n",
            "-rw------- 1 root root  41K Apr 23  2018 'walla_walla_cannabis (1).csv'\n",
            "-rw------- 1 root root  40K Apr 19  2018 'walla_walla_cannabis (2).csv'\n",
            "-rw------- 1 root root  44K Apr 24  2018  walla_walla_cannabis.csv\n",
            "-rw------- 1 root root  32K Apr 23  2018 'world_of_weed (1).csv'\n",
            "-rw------- 1 root root  31K Apr 19  2018 'world_of_weed (2).csv'\n",
            "-rw------- 1 root root  34K Apr 24  2018  world_of_weed.csv\n"
          ],
          "name": "stdout"
        }
      ]
    }
  ]
}