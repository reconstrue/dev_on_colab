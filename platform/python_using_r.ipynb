{
  "nbformat": 4,
  "nbformat_minor": 0,
  "metadata": {
    "colab": {
      "name": "python_using_r.ipynb",
      "provenance": [],
      "collapsed_sections": [],
      "include_colab_link": true
    },
    "kernelspec": {
      "name": "python3",
      "display_name": "Python 3"
    }
  },
  "cells": [
    {
      "cell_type": "markdown",
      "metadata": {
        "id": "view-in-github",
        "colab_type": "text"
      },
      "source": [
        "<a href=\"https://colab.research.google.com/github/reconstrue/neuro_on_colab/blob/master/platform/python_using_r.ipynb\" target=\"_parent\"><img src=\"https://colab.research.google.com/assets/colab-badge.svg\" alt=\"Open In Colab\"/></a>"
      ]
    },
    {
      "cell_type": "markdown",
      "metadata": {
        "id": "Fkd6NlkXEpJR",
        "colab_type": "text"
      },
      "source": [
        "# Python notebook using R code\n",
        "\n"
      ]
    },
    {
      "cell_type": "markdown",
      "metadata": {
        "id": "12_YLLxHEwCi",
        "colab_type": "text"
      },
      "source": [
        "## rpy2\n",
        "\n",
        "Seems rpy2 is the way folks like to bridge Python to R in 2019, so let's give that a whirl. (The author of this notebook has almost zero R coding experience.)\n",
        "\n",
        "Seems rpy2 is pre-installed on Colab, so no pip install needed? So, just need to `%load_ext`.\n",
        "For example, [stackoverflow says](https://stackoverflow.com/a/58351182):"
      ]
    },
    {
      "cell_type": "code",
      "metadata": {
        "id": "dMCNMKUhFkhk",
        "colab_type": "code",
        "colab": {}
      },
      "source": [
        "%load_ext rpy2.ipython"
      ],
      "execution_count": 0,
      "outputs": []
    },
    {
      "cell_type": "code",
      "metadata": {
        "id": "CfTVMe-9FFSS",
        "colab_type": "code",
        "outputId": "0dd17166-a399-47a2-84ad-171aedf56d54",
        "colab": {
          "base_uri": "https://localhost:8080/",
          "height": 34
        }
      },
      "source": [
        "%%R \n",
        "\n",
        "X=c(1,4,5,7); sd(X); mean(X)"
      ],
      "execution_count": 0,
      "outputs": [
        {
          "output_type": "display_data",
          "data": {
            "text/plain": [
              "[1] 4.25\n"
            ]
          },
          "metadata": {
            "tags": []
          }
        }
      ]
    },
    {
      "cell_type": "code",
      "metadata": {
        "id": "sSoPzZNnFICb",
        "colab_type": "code",
        "outputId": "2aa230bd-7730-4dd6-9ff9-ed0a12157cdb",
        "colab": {
          "base_uri": "https://localhost:8080/",
          "height": 34
        }
      },
      "source": [
        "%R X=c(1,4,5,7); sd(X); mean(X)"
      ],
      "execution_count": 0,
      "outputs": [
        {
          "output_type": "execute_result",
          "data": {
            "text/plain": [
              "array([4.25])"
            ]
          },
          "metadata": {
            "tags": []
          },
          "execution_count": 5
        }
      ]
    }
  ]
}