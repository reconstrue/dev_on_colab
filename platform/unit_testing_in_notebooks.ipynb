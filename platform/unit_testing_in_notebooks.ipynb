{
  "nbformat": 4,
  "nbformat_minor": 0,
  "metadata": {
    "colab": {
      "name": "unit_testing_in_notebooks.ipynb",
      "provenance": [],
      "collapsed_sections": []
    },
    "kernelspec": {
      "name": "python3",
      "display_name": "Python 3"
    }
  },
  "cells": [
    {
      "cell_type": "markdown",
      "metadata": {
        "id": "6vN_R_qUvfaI",
        "colab_type": "text"
      },
      "source": [
        "# Unit testing in Notebooks\n",
        "\n",
        "This is another part of using Colab (more generally, Jupyter) as a full fledged developer environment. ipytest would seem to be idea for unit testing Jupyter notebooks, but there seem to be Colab specific complications (what is the file name to set `__file__` to for ipytest to work on? It's in Google Drive, not the VM so file-not-found."
      ]
    },
    {
      "cell_type": "markdown",
      "metadata": {
        "id": "tV1ko2sn3-05",
        "colab_type": "text"
      },
      "source": [
        "## unittest\n",
        "\n",
        "Seems Colab comes with unittest pre-installed and trivially exercising it gives pass/fails as expected.\n"
      ]
    },
    {
      "cell_type": "code",
      "metadata": {
        "id": "WlMJGLYb4AkN",
        "colab_type": "code",
        "colab": {}
      },
      "source": [
        "import unittest"
      ],
      "execution_count": 0,
      "outputs": []
    },
    {
      "cell_type": "code",
      "metadata": {
        "id": "6ovDnTqj8h-3",
        "colab_type": "code",
        "colab": {}
      },
      "source": [
        "def add(a, b):\n",
        "    return a + b"
      ],
      "execution_count": 0,
      "outputs": []
    },
    {
      "cell_type": "code",
      "metadata": {
        "id": "0g22WJLv8asc",
        "colab_type": "code",
        "colab": {
          "base_uri": "https://localhost:8080/",
          "height": 276
        },
        "outputId": "f3576a34-274f-4e42-8453-a5becdd40c17"
      },
      "source": [
        "class TestNotebook(unittest.TestCase):\n",
        "  def test_add(self):\n",
        "    self.assertEqual(add(2, 2), 5)\n",
        "\n",
        "unittest.main(argv=[''], verbosity=2, exit=False) # Without exit=False, noisy error message"
      ],
      "execution_count": 10,
      "outputs": [
        {
          "output_type": "stream",
          "text": [
            "test_add (__main__.TestNotebook) ... FAIL\n",
            "\n",
            "======================================================================\n",
            "FAIL: test_add (__main__.TestNotebook)\n",
            "----------------------------------------------------------------------\n",
            "Traceback (most recent call last):\n",
            "  File \"<ipython-input-10-cf150eb81864>\", line 3, in test_add\n",
            "    self.assertEqual(add(2, 2), 5)\n",
            "AssertionError: 4 != 5\n",
            "\n",
            "----------------------------------------------------------------------\n",
            "Ran 1 test in 0.004s\n",
            "\n",
            "FAILED (failures=1)\n"
          ],
          "name": "stderr"
        },
        {
          "output_type": "execute_result",
          "data": {
            "text/plain": [
              "<unittest.main.TestProgram at 0x7f7a6beb5e48>"
            ]
          },
          "metadata": {
            "tags": []
          },
          "execution_count": 10
        }
      ]
    },
    {
      "cell_type": "markdown",
      "metadata": {
        "id": "ulXg8x-T0Slf",
        "colab_type": "text"
      },
      "source": [
        "## ipytest\n",
        "\n",
        "[chmp/ipytest](https://github.com/chmp/ipytest):\n",
        "> This module aims to make testing code in IPython notebooks easy. At its core, it offers a way to run pytest tests inside the notebook environment. It is also designed to make the transfer of the tests into proper python modules easy.\n",
        "\n",
        "Colab comes with tons of modules pre-installed. But ipytest is not one of them. A vanilla new notebook will fail to import ipytest (install required first):\n",
        "```\n",
        "import ipytest\n",
        "\n",
        "ModuleNotFoundError: No module named 'ipytest'\n",
        "```"
      ]
    },
    {
      "cell_type": "code",
      "metadata": {
        "id": "Jz5tNTB30aJz",
        "colab_type": "code",
        "colab": {
          "base_uri": "https://localhost:8080/",
          "height": 86
        },
        "outputId": "a91eff6e-801c-48f5-be4d-ba4ffe2f7c3d"
      },
      "source": [
        "!pip install ipytest\n",
        "import ipytest\n",
        "\n",
        "ipytest.config(rewrite_asserts=True, magics=True)\n",
        "\n",
        "# TODO: confirm. Doubt this but not sure what it does.\n",
        "__file__ = \"unit_testing_jupyter.ipynb\" "
      ],
      "execution_count": 3,
      "outputs": [
        {
          "output_type": "stream",
          "text": [
            "Requirement already satisfied: ipytest in /usr/local/lib/python3.6/dist-packages (0.7.1)\n",
            "Requirement already satisfied: packaging in /usr/local/lib/python3.6/dist-packages (from ipytest) (20.1)\n",
            "Requirement already satisfied: six in /usr/local/lib/python3.6/dist-packages (from packaging->ipytest) (1.12.0)\n",
            "Requirement already satisfied: pyparsing>=2.0.2 in /usr/local/lib/python3.6/dist-packages (from packaging->ipytest) (2.4.6)\n"
          ],
          "name": "stdout"
        }
      ]
    },
    {
      "cell_type": "code",
      "metadata": {
        "id": "Zec5Za6h2hTM",
        "colab_type": "code",
        "colab": {
          "base_uri": "https://localhost:8080/",
          "height": 69
        },
        "outputId": "f40360a4-50a7-4af0-f223-dc5d06ef7033"
      },
      "source": [
        "%%run_pytest[clean] -qq\n",
        "\n",
        "def test_example():\n",
        "    assert [1, 2, 3] == [1, 2, 3]"
      ],
      "execution_count": 4,
      "outputs": [
        {
          "output_type": "stream",
          "text": [
            "\n"
          ],
          "name": "stdout"
        },
        {
          "output_type": "stream",
          "text": [
            "ERROR: file not found: unit_testing_jupyter.ipynb\n",
            "\n"
          ],
          "name": "stderr"
        }
      ]
    },
    {
      "cell_type": "markdown",
      "metadata": {
        "id": "YLWtq0Mh9BWa",
        "colab_type": "text"
      },
      "source": [
        "## Not yet tested\n",
        "\n",
        "- https://github.com/JoaoFelipe/ipython-unittest"
      ]
    },
    {
      "cell_type": "markdown",
      "metadata": {
        "id": "SFUpU0lJv0Sw",
        "colab_type": "text"
      },
      "source": [
        "## References\n",
        "- [Testing Jupyter Notebooks](https://www.blog.pythonlibrary.org/2018/10/16/testing-jupyter-notebooks/)\n",
        "- [Simple Unit Test](https://chrisalbon.com/python/testing/simple_unit_test/): how to not shut down after tests\n",
        "\n"
      ]
    }
  ]
}