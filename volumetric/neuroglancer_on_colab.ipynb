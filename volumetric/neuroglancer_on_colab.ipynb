{
  "nbformat": 4,
  "nbformat_minor": 0,
  "metadata": {
    "colab": {
      "name": "neuroglancer_on_colab.ipynb",
      "provenance": [],
      "collapsed_sections": []
    },
    "kernelspec": {
      "name": "python3",
      "display_name": "Python 3"
    }
  },
  "cells": [
    {
      "cell_type": "code",
      "metadata": {
        "id": "tZu-ZaA2x948",
        "colab_type": "code",
        "colab": {}
      },
      "source": [
        "# Nyroglancer\n",
        "\n",
        "https://github.com/funkey/nyroglancer"
      ],
      "execution_count": 0,
      "outputs": []
    }
  ]
}